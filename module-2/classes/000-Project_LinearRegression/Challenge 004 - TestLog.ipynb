{
 "cells": [
  {
   "cell_type": "markdown",
   "metadata": {},
   "source": [
    "# Descriptive Statistics Review\n",
    "\n",
    "In this second part of the lab, we are going to continue working with the data that we cleaned in the last part. \n",
    "Be sure to continue to write clean code and comment your work well!\n",
    "\n",
    "First, lets import our libraries and the data we saved. "
   ]
  },
  {
   "cell_type": "code",
   "execution_count": null,
   "metadata": {},
   "outputs": [],
   "source": [
    "import pandas as pd\n",
    "import seaborn as sns\n",
    "import numpy as np\n",
    "\n",
    "from sklearn.model_selection import train_test_split\n",
    "\n",
    "import pickle as pk\n",
    "\n",
    "from sklearn.linear_model import LinearRegression\n",
    "from sklearn.metrics import mean_squared_error\n",
    "from sklearn.metrics import r2_score"
   ]
  },
  {
   "cell_type": "markdown",
   "metadata": {},
   "source": [
    "## Import file, dropping non-ordinal colums"
   ]
  },
  {
   "cell_type": "code",
   "execution_count": 2,
   "metadata": {},
   "outputs": [],
   "source": [
    "diamonds = pd.read_csv('diamonds_data.csv')\n",
    "diamonds = diamonds.loc[:, diamonds.dtypes == 'float64']\n",
    "\n",
    "Diamonds           = diamonds.loc[:, diamonds.columns != 'price']\n",
    "diamonds_log_price = diamonds['log_price']"
   ]
  },
  {
   "cell_type": "markdown",
   "metadata": {},
   "source": [
    "# Do the regression"
   ]
  },
  {
   "cell_type": "markdown",
   "metadata": {},
   "source": [
    "## Train test splitting"
   ]
  },
  {
   "cell_type": "code",
   "execution_count": 3,
   "metadata": {},
   "outputs": [],
   "source": [
    "Diamonds_train, Diamonds_test, diamonds_price_train, diamonds_price_test = \\\n",
    "    train_test_split(\n",
    "        Diamonds, diamonds_log_price\n",
    "    )"
   ]
  },
  {
   "cell_type": "markdown",
   "metadata": {},
   "source": [
    "## Model"
   ]
  },
  {
   "cell_type": "code",
   "execution_count": 4,
   "metadata": {},
   "outputs": [],
   "source": [
    "columns = ['log_carat', 'depth', 'table', 'clarity_idx', 'color_idx', 'cut_idx', 'pca_x_y_z']\n",
    "\n",
    "def add_level(lst = [], i = 0, l = 0):\n",
    "    if l == len(columns):\n",
    "        return lst\n",
    "\n",
    "    if l == 0:\n",
    "        lst = [[columns[0]]]\n",
    "        lst = add_level(lst, i, l + 1)\n",
    "    else:\n",
    "        curr_idx = len(lst)\n",
    "\n",
    "        for j in range(l, len(columns)):\n",
    "            if columns.index(lst[i][-1]) < j:\n",
    "                lst.append(lst[i] + [columns[j]])\n",
    "\n",
    "        for j in range(curr_idx, len(lst)):\n",
    "            lst = add_level(lst, j, l + 1)\n",
    "        \n",
    "    return lst\n",
    "\n",
    "tries = \\\n",
    "    pd.DataFrame(\n",
    "        index = [', '.join(c) for c in add_level()],\n",
    "        columns = ['MSE', 'R2']\n",
    "    )"
   ]
  },
  {
   "cell_type": "code",
   "execution_count": 9,
   "metadata": {},
   "outputs": [],
   "source": [
    "for idx in tries.index:\n",
    "    columns = idx.split(', ')\n",
    "    \n",
    "    model = LinearRegression()\n",
    "    model.fit(Diamonds_train[columns], diamonds_price_train)\n",
    "    \n",
    "    data = Diamonds_test[columns]    \n",
    "    price_predicted = model.predict(data)\n",
    "    \n",
    "    tries.loc[idx]['MSE'] = \\\n",
    "        np.sqrt(\n",
    "            mean_squared_error(\n",
    "                    np.exp(diamonds_price_test),\n",
    "                    np.exp(price_predicted)\n",
    "            )\n",
    "        )\n",
    "    \n",
    "    tries.loc[idx]['R2'] = \\\n",
    "        r2_score(\n",
    "            np.exp(diamonds_price_test),\n",
    "            np.exp(price_predicted)\n",
    "        )"
   ]
  },
  {
   "cell_type": "code",
   "execution_count": 10,
   "metadata": {},
   "outputs": [
    {
     "data": {
      "text/html": [
       "<div>\n",
       "<style scoped>\n",
       "    .dataframe tbody tr th:only-of-type {\n",
       "        vertical-align: middle;\n",
       "    }\n",
       "\n",
       "    .dataframe tbody tr th {\n",
       "        vertical-align: top;\n",
       "    }\n",
       "\n",
       "    .dataframe thead th {\n",
       "        text-align: right;\n",
       "    }\n",
       "</style>\n",
       "<table border=\"1\" class=\"dataframe\">\n",
       "  <thead>\n",
       "    <tr style=\"text-align: right;\">\n",
       "      <th></th>\n",
       "      <th>MSE</th>\n",
       "      <th>R2</th>\n",
       "    </tr>\n",
       "  </thead>\n",
       "  <tbody>\n",
       "    <tr>\n",
       "      <th>log_carat, clarity_idx, color_idx, cut_idx</th>\n",
       "      <td>846.844</td>\n",
       "      <td>0.954992</td>\n",
       "    </tr>\n",
       "    <tr>\n",
       "      <th>log_carat, depth, table, clarity_idx, color_idx, cut_idx</th>\n",
       "      <td>847.074</td>\n",
       "      <td>0.954968</td>\n",
       "    </tr>\n",
       "    <tr>\n",
       "      <th>log_carat, depth, clarity_idx, color_idx, cut_idx</th>\n",
       "      <td>847.359</td>\n",
       "      <td>0.954937</td>\n",
       "    </tr>\n",
       "    <tr>\n",
       "      <th>log_carat, table, clarity_idx, color_idx, cut_idx</th>\n",
       "      <td>847.491</td>\n",
       "      <td>0.954923</td>\n",
       "    </tr>\n",
       "    <tr>\n",
       "      <th>log_carat, depth, table, clarity_idx, color_idx</th>\n",
       "      <td>853.998</td>\n",
       "      <td>0.954229</td>\n",
       "    </tr>\n",
       "  </tbody>\n",
       "</table>\n",
       "</div>"
      ],
      "text/plain": [
       "                                                        MSE        R2\n",
       "log_carat, clarity_idx, color_idx, cut_idx          846.844  0.954992\n",
       "log_carat, depth, table, clarity_idx, color_idx...  847.074  0.954968\n",
       "log_carat, depth, clarity_idx, color_idx, cut_idx   847.359  0.954937\n",
       "log_carat, table, clarity_idx, color_idx, cut_idx   847.491  0.954923\n",
       "log_carat, depth, table, clarity_idx, color_idx     853.998  0.954229"
      ]
     },
     "execution_count": 10,
     "metadata": {},
     "output_type": "execute_result"
    }
   ],
   "source": [
    "tries.sort_values(by='R2', ascending=False).head()"
   ]
  },
  {
   "cell_type": "code",
   "execution_count": 11,
   "metadata": {},
   "outputs": [
    {
     "data": {
      "text/html": [
       "<div>\n",
       "<style scoped>\n",
       "    .dataframe tbody tr th:only-of-type {\n",
       "        vertical-align: middle;\n",
       "    }\n",
       "\n",
       "    .dataframe tbody tr th {\n",
       "        vertical-align: top;\n",
       "    }\n",
       "\n",
       "    .dataframe thead th {\n",
       "        text-align: right;\n",
       "    }\n",
       "</style>\n",
       "<table border=\"1\" class=\"dataframe\">\n",
       "  <thead>\n",
       "    <tr style=\"text-align: right;\">\n",
       "      <th></th>\n",
       "      <th>MSE</th>\n",
       "      <th>R2</th>\n",
       "    </tr>\n",
       "  </thead>\n",
       "  <tbody>\n",
       "    <tr>\n",
       "      <th>log_carat, clarity_idx, color_idx, cut_idx</th>\n",
       "      <td>846.844</td>\n",
       "      <td>0.954992</td>\n",
       "    </tr>\n",
       "    <tr>\n",
       "      <th>log_carat, depth, table, clarity_idx, color_idx, cut_idx</th>\n",
       "      <td>847.074</td>\n",
       "      <td>0.954968</td>\n",
       "    </tr>\n",
       "    <tr>\n",
       "      <th>log_carat, depth, clarity_idx, color_idx, cut_idx</th>\n",
       "      <td>847.359</td>\n",
       "      <td>0.954937</td>\n",
       "    </tr>\n",
       "    <tr>\n",
       "      <th>log_carat, table, clarity_idx, color_idx, cut_idx</th>\n",
       "      <td>847.491</td>\n",
       "      <td>0.954923</td>\n",
       "    </tr>\n",
       "    <tr>\n",
       "      <th>log_carat, depth, table, clarity_idx, color_idx</th>\n",
       "      <td>853.998</td>\n",
       "      <td>0.954229</td>\n",
       "    </tr>\n",
       "  </tbody>\n",
       "</table>\n",
       "</div>"
      ],
      "text/plain": [
       "                                                        MSE        R2\n",
       "log_carat, clarity_idx, color_idx, cut_idx          846.844  0.954992\n",
       "log_carat, depth, table, clarity_idx, color_idx...  847.074  0.954968\n",
       "log_carat, depth, clarity_idx, color_idx, cut_idx   847.359  0.954937\n",
       "log_carat, table, clarity_idx, color_idx, cut_idx   847.491  0.954923\n",
       "log_carat, depth, table, clarity_idx, color_idx     853.998  0.954229"
      ]
     },
     "execution_count": 11,
     "metadata": {},
     "output_type": "execute_result"
    }
   ],
   "source": [
    "tries.sort_values(by='MSE', ascending=True).head()"
   ]
  },
  {
   "cell_type": "markdown",
   "metadata": {},
   "source": [
    "# Do the regression based on Clarity"
   ]
  },
  {
   "cell_type": "code",
   "execution_count": 12,
   "metadata": {},
   "outputs": [],
   "source": [
    "#model_columns = ['log_carat', 'depth', 'table', 'color_idx', 'cut_idx']\n",
    "model_columns = ['log_carat', 'color_idx', 'cut_idx']\n"
   ]
  },
  {
   "cell_type": "code",
   "execution_count": 13,
   "metadata": {},
   "outputs": [],
   "source": [
    "diamonds_clarity_split = {}\n",
    "\n",
    "for clarity in diamonds.clarity_idx.unique():\n",
    "    data   = diamonds[diamonds.clarity_idx == clarity]\n",
    "    #\n",
    "    featrs = data.loc[:, model_columns]\n",
    "    prices = data['log_price']    \n",
    "    \n",
    "    Train, Test, train, test = train_test_split(featrs, prices)\n",
    "        \n",
    "    diamonds_clarity_split[clarity] = \\\n",
    "        {\n",
    "            'data': data,\n",
    "            #\n",
    "            'Train': Train, 'Test': Test,\n",
    "            'train': train, 'test': test\n",
    "        }"
   ]
  },
  {
   "cell_type": "code",
   "execution_count": 17,
   "metadata": {},
   "outputs": [],
   "source": [
    "split_result   = []\n",
    "split_expected = []\n",
    "\n",
    "for clarity in diamonds.clarity_idx.unique():\n",
    "    split = diamonds_clarity_split[clarity]\n",
    "    #\n",
    "    split_Train = split['Train']\n",
    "    split_train = split['train']\n",
    "    #\n",
    "    split_Test = split['Test']\n",
    "    split_test = split['test']\n",
    "    \n",
    "    model = LinearRegression()\n",
    "    model.fit(split_Train, split_train)\n",
    "    \n",
    "    price_predicted = model.predict(split_Test)\n",
    "    \n",
    "    split_result.extend(np.exp(price_predicted))\n",
    "    split_expected.extend(np.exp(split_test))"
   ]
  },
  {
   "cell_type": "code",
   "execution_count": 19,
   "metadata": {
    "scrolled": true
   },
   "outputs": [
    {
     "name": "stdout",
     "output_type": "stream",
     "text": [
      "742.6272264579031\n",
      "0.9640164543807836\n"
     ]
    },
    {
     "data": {
      "text/plain": [
       "<matplotlib.axes._subplots.AxesSubplot at 0x1750979f108>"
      ]
     },
     "execution_count": 19,
     "metadata": {},
     "output_type": "execute_result"
    },
    {
     "data": {
      "image/png": "[encoded data removed]",
      "text/plain": [
       "<Figure size 432x288 with 1 Axes>"
      ]
     },
     "metadata": {
      "needs_background": "light"
     },
     "output_type": "display_data"
    }
   ],
   "source": [
    "print(\n",
    "    np.sqrt(\n",
    "        mean_squared_error(split_result, split_expected)\n",
    "    )\n",
    ")\n",
    "\n",
    "print(\n",
    "    r2_score(split_result, split_expected)\n",
    ")\n",
    "\n",
    "sns.distplot(split_result)\n",
    "sns.distplot(split_expected)"
   ]
  },
  {
   "cell_type": "markdown",
   "metadata": {},
   "source": [
    "# Apply!"
   ]
  },
  {
   "cell_type": "code",
   "execution_count": 20,
   "metadata": {},
   "outputs": [],
   "source": [
    "rick = pd.read_csv('rick_diamonds.csv')"
   ]
  },
  {
   "cell_type": "markdown",
   "metadata": {},
   "source": [
    "## Qualify"
   ]
  },
  {
   "cell_type": "code",
   "execution_count": 21,
   "metadata": {},
   "outputs": [],
   "source": [
    "clarities = ['I1', 'SI2', 'SI1', 'VS2', 'VS1', 'VVS2', 'VVS1', 'IF']\n",
    "\n",
    "rick['clarity_idx'] = [clarities.index(c) for c in rick.clarity]"
   ]
  },
  {
   "cell_type": "code",
   "execution_count": 22,
   "metadata": {},
   "outputs": [],
   "source": [
    "colors = ['J', 'I', 'H', 'G', 'F', 'E', 'D']\n",
    "\n",
    "rick['color_idx'] = [colors.index(c) for c in rick.color]"
   ]
  },
  {
   "cell_type": "code",
   "execution_count": 23,
   "metadata": {},
   "outputs": [],
   "source": [
    "cuts = ['Fair', 'Good', 'Very Good', 'Premium', 'Ideal']\n",
    "\n",
    "rick['cut_idx'] = [cuts.index(c) for c in rick.cut]"
   ]
  },
  {
   "cell_type": "markdown",
   "metadata": {},
   "source": [
    "## PCA for x, y, z"
   ]
  },
  {
   "cell_type": "code",
   "execution_count": 24,
   "metadata": {},
   "outputs": [],
   "source": [
    "pca_data = rick[['x', 'y', 'z']]\n",
    "\n",
    "rick['pca_x_y_z'] = \\\n",
    "    pk \\\n",
    "        .load(\n",
    "                open('pca_x_y_z.pkl','rb')\n",
    "            ) \\\n",
    "        .transform(pca_data)"
   ]
  },
  {
   "cell_type": "markdown",
   "metadata": {},
   "source": [
    "## Log for carat"
   ]
  },
  {
   "cell_type": "code",
   "execution_count": 25,
   "metadata": {},
   "outputs": [],
   "source": [
    "rick['log_carat'] = np.log(rick.carat)"
   ]
  },
  {
   "cell_type": "markdown",
   "metadata": {},
   "source": [
    "## Run model"
   ]
  },
  {
   "cell_type": "code",
   "execution_count": 26,
   "metadata": {},
   "outputs": [],
   "source": [
    "rick['price_predicted'] = np.nan\n",
    "\n",
    "for clarity in diamonds.clarity_idx.unique():\n",
    "    data      = diamonds[diamonds.clarity_idx == clarity]\n",
    "    rick_data = rick[rick.clarity_idx == clarity]\n",
    "    \n",
    "    model = LinearRegression()\n",
    "    model.fit(data[model_columns], data.log_price)\n",
    "    \n",
    "    rick.loc[rick_data.index, ['price_predicted']] = \\\n",
    "        np.exp(\n",
    "            model.predict(rick_data[model_columns])\n",
    "        )"
   ]
  },
  {
   "cell_type": "code",
   "execution_count": 27,
   "metadata": {},
   "outputs": [
    {
     "data": {
      "text/plain": [
       "<matplotlib.axes._subplots.AxesSubplot at 0x175099587c8>"
      ]
     },
     "execution_count": 27,
     "metadata": {},
     "output_type": "execute_result"
    },
    {
     "data": {
      "image/png": "[encoded data removed]",
      "text/plain": [
       "<Figure size 432x288 with 1 Axes>"
      ]
     },
     "metadata": {
      "needs_background": "light"
     },
     "output_type": "display_data"
    }
   ],
   "source": [
    "sns.distplot(rick['price_predicted'])"
   ]
  },
  {
   "cell_type": "markdown",
   "metadata": {},
   "source": [
    "## Output"
   ]
  },
  {
   "cell_type": "code",
   "execution_count": 28,
   "metadata": {},
   "outputs": [],
   "source": [
    "rick.to_csv('diamonds_rick_log.csv', index=False)"
   ]
  },
  {
   "cell_type": "code",
   "execution_count": null,
   "metadata": {},
   "outputs": [],
   "source": []
  }
 ],
 "metadata": {
  "kernelspec": {
   "display_name": "Python 3",
   "language": "python",
   "name": "python3"
  },
  "language_info": {
   "codemirror_mode": {
    "name": "ipython",
    "version": 3
   },
   "file_extension": ".py",
   "mimetype": "text/x-python",
   "name": "python",
   "nbconvert_exporter": "python",
   "pygments_lexer": "ipython3",
   "version": "3.7.6"
  }
 },
 "nbformat": 4,
 "nbformat_minor": 4
}
